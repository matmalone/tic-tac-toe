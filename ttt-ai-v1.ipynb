{
 "cells": [
  {
   "attachments": {},
   "cell_type": "markdown",
   "metadata": {},
   "source": [
    "# Solve Tic-Tac-Toe using a Classification Neural Network\n",
    "\n",
    "## TTT implementation checklist\n",
    "\n",
    "- Make sure that we have a working impementation of TTT\n",
    "  - Penalize you if you chose a move that is invalid (you lose your turn)\n",
    "  - Needs to have a fully programatic interface with the ability to turn off full game board.\n",
    "  - Unoccupied spaces need to have value 0.\n",
    "\n",
    "## Draft Design\n",
    "\n",
    "- Classification problem\n",
    "- Loss function: cross entropy loss\n",
    "- Optimizer: SGD\n",
    "- for now the AI is always \"O\"\n",
    "\n",
    "### Neural Network\n",
    "\n",
    "- 9 inputs: each square on the board\n",
    "- 9 outputs: the position that the AI should move to \n",
    "- 1 hidden layer with 16 neurons\n",
    "- ReLU activation layers between\n",
    "\n",
    "### Training Loop\n",
    "\n",
    "- 100 **generations** to start\n",
    "- For loop within each generation:\n",
    "  - play 100 **matches**; this should equate to 5-9 moves per match, or more importantly, 500-900 **frames**.\n",
    "    - the match should always have the AI player 1\n",
    "    - the AI is only analyzing its own play\n",
    "  - Record each frame of a match in an array.\n",
    "  - For games where the AI **WINS** record it in an array for the generation.\n",
    "  - The array of winning frames is your X train and test data for the NN.\n",
    "  - Calculate the argmax to get the position to move to\n",
    "\n",
    "\n"
   ]
  },
  {
   "cell_type": "code",
   "execution_count": 8,
   "metadata": {},
   "outputs": [
    {
     "name": "stdout",
     "output_type": "stream",
     "text": [
      "tensor([[0., 1., 0.,  ..., 0., 0., 0.],\n",
      "        [0., 1., 0.,  ..., 0., 0., 0.],\n",
      "        [1., 1., 0.,  ..., 0., 0., 0.],\n",
      "        ...,\n",
      "        [2., 1., 0.,  ..., 0., 0., 0.],\n",
      "        [2., 1., 0.,  ..., 0., 0., 0.],\n",
      "        [2., 1., 0.,  ..., 0., 0., 2.]])\n"
     ]
    }
   ],
   "source": [
    "import torch\n",
    "from torch import nn\n",
    "from sklearn.model_selection import train_test_split\n",
    "import torchmetrics\n",
    "import matplotlib.pyplot as plt\n",
    "import sys\n",
    "sys.path.insert(0, '/home/malone/Code/pytorch-bourke')\n",
    "from helper_functions import plot_decision_boundary\n",
    "\n",
    "from lib.game import Game\n",
    "import lib.state\n",
    "\n",
    "RANDOM_SEED = 1\n",
    "NUM_GENERATION = 1\n",
    "NUM_MATCHES = 100\n",
    "AI_PLAYER_ID = 1\n",
    "\n",
    "def aiMove(game):\n",
    "    return (1,1)\n",
    "\n",
    "# set up the game\n",
    "game = Game(aiMove, 'random', hideGameOutput=True, randomSeed=RANDOM_SEED)\n",
    "\n",
    "X = torch.Tensor()\n",
    "\n",
    "def runMatch(game, X):\n",
    "    winner = game.runGame()\n",
    "    # print(\"winner is player\", winner)\n",
    "\n",
    "    if winner == AI_PLAYER_ID:\n",
    "        # record the frames as the training set\n",
    "        frames = torch.Tensor(game.frames).type(torch.int32)\n",
    "        frames = frames.reshape(frames.shape[0], 9).squeeze()\n",
    "        # print(frames)\n",
    "        X = torch.cat((X, frames), dim=0)\n",
    "    return X\n",
    "\n",
    "class TttModel(nn.Module):\n",
    "    def __init__(self):\n",
    "        super().__init__()\n",
    "        self.linear_stack = nn.Sequential(\n",
    "            nn.Linear(in_features=9, out_features=16),\n",
    "            nn.ReLU(),\n",
    "            nn.Linear(in_features=16, out_features=16),\n",
    "            nn.ReLU(),\n",
    "            nn.Linear(in_features=16, out_features=9),\n",
    "        )\n",
    "    def forward(self, x):\n",
    "        return self.linear_stack(x)\n",
    "        \n",
    "        \n",
    "# training loop\n",
    "for generation in range(NUM_GENERATION):\n",
    "    for match in range(NUM_MATCHES):\n",
    "        X = runMatch(game, X)\n",
    "print(X)\n",
    "        \n",
    "        \n",
    "\n"
   ]
  },
  {
   "cell_type": "code",
   "execution_count": null,
   "metadata": {},
   "outputs": [],
   "source": []
  }
 ],
 "metadata": {
  "kernelspec": {
   "display_name": "base",
   "language": "python",
   "name": "python3"
  },
  "language_info": {
   "codemirror_mode": {
    "name": "ipython",
    "version": 3
   },
   "file_extension": ".py",
   "mimetype": "text/x-python",
   "name": "python",
   "nbconvert_exporter": "python",
   "pygments_lexer": "ipython3",
   "version": "3.10.9"
  },
  "orig_nbformat": 4,
  "vscode": {
   "interpreter": {
    "hash": "0037724ea375c64231ca76fecaf4685c959474d1b8ae5a3f876c86af8483cdb7"
   }
  }
 },
 "nbformat": 4,
 "nbformat_minor": 2
}
