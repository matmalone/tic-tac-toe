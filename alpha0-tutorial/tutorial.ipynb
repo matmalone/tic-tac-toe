{
 "cells": [
  {
   "cell_type": "code",
   "execution_count": 2,
   "metadata": {},
   "outputs": [],
   "source": [
    "import numpy as np"
   ]
  },
  {
   "cell_type": "code",
   "execution_count": 3,
   "metadata": {},
   "outputs": [],
   "source": [
    "class TicTacToe:\n",
    "    def __init__(self):\n",
    "        self.row_count = 3\n",
    "        self.column_count = 3\n",
    "        self.action_size = self.row_count * self.column_count\n",
    "\n",
    "    def get_initial_state(self):\n",
    "        return np.zeros((self.row_count, self.column_count), dtype=np.int8)\n",
    "\n",
    "    def get_next_state(self, state, action, player):\n",
    "        row = action // self.column_count\n",
    "        column = action % self.column_count\n",
    "\n",
    "        state[row, column] = player\n",
    "        return state\n",
    "\n",
    "    def get_valid_moves(self, state: np.array):\n",
    "        return (state.reshape(-1) == 0).astype(np.uint8)\n",
    "\n",
    "    def check_win(self, state, action):\n",
    "        row = action // self.column_count\n",
    "        column = action % self.column_count\n",
    "        player = state[row, column]\n",
    "\n",
    "        return (\n",
    "            np.sum(state[row, :]) == player * self.column_count\n",
    "            or np.sum(state[: column]) == player * self.row_count\n",
    "            or np.sum(np.diag(state)) == player * self.row_count\n",
    "            or np.sum(np.diag(np.flip(state, axis=0))) == player * self.row_count\n",
    "        )\n",
    "    \n",
    "    def get_value_and_terminated(self, state, action):\n",
    "        if self.check_win(state, action):\n",
    "            return 1, True\n",
    "        if np.sum(self.get_valid_moves(state)) == 0:\n",
    "            return 0, True\n",
    "        return 0, False\n",
    "    \n",
    "    def get_opponent(self, player):\n",
    "        return -player\n",
    "    \n",
    "    "
   ]
  },
  {
   "cell_type": "code",
   "execution_count": 4,
   "metadata": {},
   "outputs": [
    {
     "name": "stdout",
     "output_type": "stream",
     "text": [
      "[0 1 1 1 0 1 1 1 0]\n"
     ]
    },
    {
     "data": {
      "text/plain": [
       "(1, True)"
      ]
     },
     "execution_count": 4,
     "metadata": {},
     "output_type": "execute_result"
    }
   ],
   "source": [
    "ttt = TicTacToe()\n",
    "state = ttt.get_initial_state()\n",
    "\n",
    "state = ttt.get_next_state(state, 8, 1)\n",
    "state = ttt.get_next_state(state, 4, 1)\n",
    "state = ttt.get_next_state(state, 0, 1)\n",
    "\n",
    "moves = ttt.get_valid_moves(state)\n",
    "\n",
    "print(moves)\n",
    "\n",
    "ttt.get_value_and_terminated(state, 8)\n",
    "\n"
   ]
  },
  {
   "cell_type": "code",
   "execution_count": 5,
   "metadata": {},
   "outputs": [
    {
     "data": {
      "text/plain": [
       "(array([[0, 1, 2],\n",
       "        [3, 4, 5],\n",
       "        [6, 7, 8]]),\n",
       " array([0, 4, 8]),\n",
       " array([2, 4, 6]))"
      ]
     },
     "execution_count": 5,
     "metadata": {},
     "output_type": "execute_result"
    }
   ],
   "source": [
    "arr = np.arange(9)\n",
    "arr = arr.reshape((3,3))\n",
    "\n",
    "# np.diag(arr)\n",
    "\n",
    "\n",
    "arr, arr.diagonal(), np.flip(arr, axis=-1).diagonal()"
   ]
  },
  {
   "cell_type": "code",
   "execution_count": 6,
   "metadata": {},
   "outputs": [
    {
     "name": "stdout",
     "output_type": "stream",
     "text": [
      "adjusted state:\n",
      " [[0 0 0]\n",
      " [0 0 0]\n",
      " [0 0 0]]\n",
      "valid_moves:  [1, 2, 3, 4, 5, 6, 7, 8, 9]\n"
     ]
    },
    {
     "ename": "ValueError",
     "evalue": "invalid literal for int() with base 10: ''",
     "output_type": "error",
     "traceback": [
      "\u001b[0;31m---------------------------------------------------------------------------\u001b[0m",
      "\u001b[0;31mValueError\u001b[0m                                Traceback (most recent call last)",
      "Cell \u001b[0;32mIn[6], line 17\u001b[0m\n\u001b[1;32m     14\u001b[0m \u001b[39m# need to sleep otherwise sometimes the input pops up before the previous output\u001b[39;00m\n\u001b[1;32m     15\u001b[0m time\u001b[39m.\u001b[39msleep(\u001b[39m.5\u001b[39m)\n\u001b[0;32m---> 17\u001b[0m action \u001b[39m=\u001b[39m \u001b[39mint\u001b[39;49m(\u001b[39minput\u001b[39;49m(\u001b[39mf\u001b[39;49m\u001b[39m\"\u001b[39;49m\u001b[39mplayer \u001b[39;49m\u001b[39m{\u001b[39;49;00mplayer\u001b[39m}\u001b[39;49;00m\u001b[39m move: \u001b[39;49m\u001b[39m\"\u001b[39;49m)) \u001b[39m-\u001b[39m \u001b[39m1\u001b[39m\n\u001b[1;32m     19\u001b[0m \u001b[39mif\u001b[39;00m valid_moves[action] \u001b[39m==\u001b[39m \u001b[39m0\u001b[39m:\n\u001b[1;32m     20\u001b[0m     \u001b[39mprint\u001b[39m(\u001b[39m\"\u001b[39m\u001b[39maction not valid\u001b[39m\u001b[39m\"\u001b[39m)\n",
      "\u001b[0;31mValueError\u001b[0m: invalid literal for int() with base 10: ''"
     ]
    }
   ],
   "source": [
    "import time\n",
    "\n",
    "\n",
    "ttt = TicTacToe()\n",
    "\n",
    "player = 1\n",
    "state = ttt.get_initial_state()\n",
    "\n",
    "while True:\n",
    "    print(\"adjusted state:\\n\", np.flipud(state))\n",
    "    valid_moves = ttt.get_valid_moves(state)\n",
    "    print(f\"valid_moves: \", [i + 1 for i in range(ttt.action_size) if valid_moves[i] == 1])\n",
    "\n",
    "    # need to sleep otherwise sometimes the input pops up before the previous output\n",
    "    time.sleep(.5)\n",
    "\n",
    "    action = int(input(f\"player {player} move: \")) - 1\n",
    "\n",
    "    if valid_moves[action] == 0:\n",
    "        print(\"action not valid\")\n",
    "        continue\n",
    "\n",
    "    state = ttt.get_next_state(state, action, player)\n",
    "\n",
    "    value, is_terminal = ttt.get_value_and_terminated(state, action)\n",
    "    if is_terminal:\n",
    "        if value == 1:\n",
    "            print(f\"player {player} won\")\n",
    "        else:\n",
    "            print(\"draw\")\n",
    "        print(\"adjusted state:\\n\", np.flipud(state))\n",
    "        print(\"true state:\\n\", state)\n",
    "\n",
    "        break\n",
    "\n",
    "    player = ttt.get_opponent(player)"
   ]
  },
  {
   "cell_type": "code",
   "execution_count": 18,
   "metadata": {},
   "outputs": [
    {
     "name": "stdout",
     "output_type": "stream",
     "text": [
      "adjusted state:\n",
      " [[0 0 0]\n",
      " [0 0 0]\n",
      " [0 0 0]]\n",
      "adjusted valid_moves: [0, 1, 2, 3, 4, 5, 6, 7, 8]\n",
      "player 1 choice: 8 | move # 1\n",
      "adjusted state:\n",
      " [[0 0 1]\n",
      " [0 0 0]\n",
      " [0 0 0]]\n",
      "adjusted valid_moves: [0, 1, 2, 3, 4, 5, 6, 7]\n",
      "player -1 choice: 2 | move # 2\n",
      "adjusted state:\n",
      " [[ 0  0  1]\n",
      " [ 0  0  0]\n",
      " [ 0  0 -1]]\n",
      "adjusted valid_moves: [0, 1, 3, 4, 5, 6, 7]\n",
      "player 1 choice: 5 | move # 3\n",
      "adjusted state:\n",
      " [[ 0  0  1]\n",
      " [ 0  0  1]\n",
      " [ 0  0 -1]]\n",
      "adjusted valid_moves: [0, 1, 3, 4, 6, 7]\n",
      "player -1 choice: 3 | move # 4\n",
      "adjusted state:\n",
      " [[ 0  0  1]\n",
      " [-1  0  1]\n",
      " [ 0  0 -1]]\n",
      "adjusted valid_moves: [0, 1, 4, 6, 7]\n",
      "player 1 choice: 0 | move # 5\n",
      "adjusted state:\n",
      " [[ 0  0  1]\n",
      " [-1  0  1]\n",
      " [ 1  0 -1]]\n",
      "adjusted valid_moves: [1, 4, 6, 7]\n",
      "player -1 choice: 1 | move # 6\n",
      "adjusted state:\n",
      " [[ 0  0  1]\n",
      " [-1  0  1]\n",
      " [ 1 -1 -1]]\n",
      "adjusted valid_moves: [4, 6, 7]\n",
      "player 1 choice: 4 | move # 7\n",
      "player 1 won\n",
      "adjusted state:\n",
      " [[ 0  0  1]\n",
      " [-1  1  1]\n",
      " [ 1 -1 -1]]\n",
      "true state:\n",
      " [[ 1 -1 -1]\n",
      " [-1  1  1]\n",
      " [ 0  0  1]]\n"
     ]
    }
   ],
   "source": [
    "import random\n",
    "\n",
    "ttt = TicTacToe()\n",
    "\n",
    "num_moves = 0\n",
    "player = 1\n",
    "state = ttt.get_initial_state()\n",
    "\n",
    "while num_moves <= ttt.action_size:\n",
    "    num_moves += 1\n",
    "    print(\"adjusted state:\\n\", np.flipud(state))\n",
    "    valid_moves = ttt.get_valid_moves(state)\n",
    "    choices = [i for i in range(ttt.action_size) if valid_moves[i] == 1]\n",
    "    print(f\"adjusted valid_moves: {choices}\")\n",
    "\n",
    "    action = random.choice(choices)\n",
    "    print(f\"player {player} choice: {action} | move # {num_moves}\")\n",
    "\n",
    "    if valid_moves[action] == 0:\n",
    "        print(\"action not valid\")\n",
    "        continue\n",
    "\n",
    "    state = ttt.get_next_state(state, action, player)\n",
    "\n",
    "    value, is_terminal = ttt.get_value_and_terminated(state, action)\n",
    "    if is_terminal:\n",
    "        if value == 1:\n",
    "            print(f\"player {player} won\")\n",
    "        else:\n",
    "            print(\"draw\")\n",
    "        print(\"adjusted state:\\n\", np.flipud(state))\n",
    "        print(\"true state:\\n\", state)\n",
    "\n",
    "        break\n",
    "\n",
    "    player = ttt.get_opponent(player)"
   ]
  },
  {
   "cell_type": "code",
   "execution_count": null,
   "metadata": {},
   "outputs": [],
   "source": [
    "class MonteCarloTreeSearch:\n",
    "    def __init__(self, game, args) -> None:\n",
    "        pass\n",
    "\n",
    "# pause video at 1:01:09\n"
   ]
  }
 ],
 "metadata": {
  "kernelspec": {
   "display_name": "ttt",
   "language": "python",
   "name": "python3"
  },
  "language_info": {
   "codemirror_mode": {
    "name": "ipython",
    "version": 3
   },
   "file_extension": ".py",
   "mimetype": "text/x-python",
   "name": "python",
   "nbconvert_exporter": "python",
   "pygments_lexer": "ipython3",
   "version": "3.11.3"
  },
  "orig_nbformat": 4
 },
 "nbformat": 4,
 "nbformat_minor": 2
}
